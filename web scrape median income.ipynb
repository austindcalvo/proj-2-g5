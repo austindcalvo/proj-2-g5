{
 "cells": [
  {
   "cell_type": "code",
   "execution_count": 1,
   "id": "0ea3d8c9",
   "metadata": {},
   "outputs": [],
   "source": [
    "import pandas as pd\n",
    "from bs4 import BeautifulSoup\n",
    "import requests\n",
    "from splinter import Browser\n",
    "from webdriver_manager.chrome import ChromeDriverManager\n",
    "import time\n",
    "from selenium.webdriver.common.keys import Keys\n"
   ]
  },
  {
   "cell_type": "code",
   "execution_count": 2,
   "id": "0e4f6803",
   "metadata": {},
   "outputs": [],
   "source": [
    "executable_path = {'executable_path': ChromeDriverManager().install()}\n",
    "browser = Browser('chrome', **executable_path, headless=False)"
   ]
  },
  {
   "cell_type": "code",
   "execution_count": 3,
   "id": "c44c61c5",
   "metadata": {},
   "outputs": [],
   "source": [
    "url = 'https://www.point2homes.com/US/Neighborhood/TX/Travis-County-Demographics.html#MedianIncomeByZipcode'\n",
    "browser.visit(url)"
   ]
  },
  {
   "cell_type": "code",
   "execution_count": 4,
   "id": "6b76987d",
   "metadata": {},
   "outputs": [
    {
     "name": "stdout",
     "output_type": "stream",
     "text": [
      "finished\n"
     ]
    }
   ],
   "source": [
    "for x in range(10):\n",
    "    soup = BeautifulSoup(browser.html, 'html.parser')\n",
    "\n",
    "    try:\n",
    "        browser.find_by_xpath('/html/body/div[3]/div[3]/div/div[3]/div[9]/div[2]/div/div/div[1]/a').click()\n",
    "        browser.find_by_xpath(\"/html/body\").first.type(Keys.PAGE_DOWN)\n",
    "\n",
    "    except:\n",
    "        print(\"finished\")\n",
    "        table1 = soup.find(\"table\", id=\"median-income-table\")\n",
    "        break\n",
    "        \n"
   ]
  },
  {
   "cell_type": "code",
   "execution_count": 5,
   "id": "a62c0340",
   "metadata": {},
   "outputs": [],
   "source": [
    "#checking to make sure the entire table was scraped correctly\n",
    "#table1"
   ]
  },
  {
   "cell_type": "code",
   "execution_count": 6,
   "id": "cd8910ba",
   "metadata": {},
   "outputs": [],
   "source": [
    "#looking at the find all \n",
    "#print(table1.find_all(\"td\", {\"data-header\": \"ZipCode\"}))"
   ]
  },
  {
   "cell_type": "code",
   "execution_count": 7,
   "id": "5f12dd25",
   "metadata": {},
   "outputs": [],
   "source": [
    "#creating empty lists for our data\n",
    "zips = []\n",
    "population = []\n",
    "Num_House = []\n",
    "Median_income = []\n",
    "Avg_income = []\n",
    "#getting data repeat 4 times\n",
    "results1 = table1.find_all(\"td\", {\"data-header\": \"ZipCode\"})\n",
    "for z in range(len(results1)):\n",
    "    zipcode = results1[z].text\n",
    "    zips.append(zipcode)"
   ]
  },
  {
   "cell_type": "code",
   "execution_count": 8,
   "id": "68d38e9b",
   "metadata": {},
   "outputs": [],
   "source": [
    "results2 = table1.find_all(\"td\", {\"data-header\": \"Population\"})\n",
    "for x in range(len(results2)):\n",
    "    pops = results2[x].text\n",
    "    population.append(pops)"
   ]
  },
  {
   "cell_type": "code",
   "execution_count": 9,
   "id": "d3b72cd6",
   "metadata": {},
   "outputs": [],
   "source": [
    "results3 = table1.find_all(\"td\", {\"data-header\": \"Number of Households\"})\n",
    "for y in range(len(results3)):\n",
    "    NumHouse = results3[y].text\n",
    "    Num_House.append(NumHouse)"
   ]
  },
  {
   "cell_type": "code",
   "execution_count": 10,
   "id": "d2d53fc2",
   "metadata": {},
   "outputs": [],
   "source": [
    "results4 = table1.find_all(\"td\", {\"data-header\": \"Median Income\"})\n",
    "for p in range(len(results4)):\n",
    "    Med_inc = results4[p].text\n",
    "    Median_income.append(Med_inc)"
   ]
  },
  {
   "cell_type": "code",
   "execution_count": 11,
   "id": "755f5c82",
   "metadata": {},
   "outputs": [],
   "source": [
    "results5 = table1.find_all(\"td\", {\"data-header\": \"Average Income\"})\n",
    "for q in range(len(results5)):\n",
    "    Avg_inc = results5[q].text\n",
    "    Avg_income.append(Avg_inc)"
   ]
  },
  {
   "cell_type": "code",
   "execution_count": 12,
   "id": "d2a7da20",
   "metadata": {},
   "outputs": [],
   "source": [
    "#create data frame\n",
    "zip_income_df = pd.DataFrame({\"ZipCode\": zips, \"Population\": population, \"Number of Households\": Num_House, \"Median Income\": Median_income, \"Average Income\": Avg_income})"
   ]
  },
  {
   "cell_type": "code",
   "execution_count": 13,
   "id": "a404db78",
   "metadata": {},
   "outputs": [
    {
     "data": {
      "text/html": [
       "<div>\n",
       "<style scoped>\n",
       "    .dataframe tbody tr th:only-of-type {\n",
       "        vertical-align: middle;\n",
       "    }\n",
       "\n",
       "    .dataframe tbody tr th {\n",
       "        vertical-align: top;\n",
       "    }\n",
       "\n",
       "    .dataframe thead th {\n",
       "        text-align: right;\n",
       "    }\n",
       "</style>\n",
       "<table border=\"1\" class=\"dataframe\">\n",
       "  <thead>\n",
       "    <tr style=\"text-align: right;\">\n",
       "      <th></th>\n",
       "      <th>ZipCode</th>\n",
       "      <th>Population</th>\n",
       "      <th>Number of Households</th>\n",
       "      <th>Median Income</th>\n",
       "      <th>Average Income</th>\n",
       "    </tr>\n",
       "  </thead>\n",
       "  <tbody>\n",
       "    <tr>\n",
       "      <th>0</th>\n",
       "      <td>78610</td>\n",
       "      <td>39,498</td>\n",
       "      <td>13,284</td>\n",
       "      <td>$84,114.00</td>\n",
       "      <td>$108,413.00</td>\n",
       "    </tr>\n",
       "    <tr>\n",
       "      <th>1</th>\n",
       "      <td>78613</td>\n",
       "      <td>83,876</td>\n",
       "      <td>27,558</td>\n",
       "      <td>$107,983.00</td>\n",
       "      <td>$125,381.00</td>\n",
       "    </tr>\n",
       "    <tr>\n",
       "      <th>2</th>\n",
       "      <td>78615</td>\n",
       "      <td>1,363</td>\n",
       "      <td>376</td>\n",
       "      <td>$70,833.00</td>\n",
       "      <td>$98,823.00</td>\n",
       "    </tr>\n",
       "    <tr>\n",
       "      <th>3</th>\n",
       "      <td>78617</td>\n",
       "      <td>28,376</td>\n",
       "      <td>6,981</td>\n",
       "      <td>$64,117.00</td>\n",
       "      <td>$96,277.00</td>\n",
       "    </tr>\n",
       "    <tr>\n",
       "      <th>4</th>\n",
       "      <td>78621</td>\n",
       "      <td>24,590</td>\n",
       "      <td>7,183</td>\n",
       "      <td>$80,100.00</td>\n",
       "      <td>$85,730.00</td>\n",
       "    </tr>\n",
       "  </tbody>\n",
       "</table>\n",
       "</div>"
      ],
      "text/plain": [
       "  ZipCode Population Number of Households Median Income Average Income\n",
       "0   78610     39,498               13,284    $84,114.00    $108,413.00\n",
       "1   78613     83,876               27,558   $107,983.00    $125,381.00\n",
       "2   78615      1,363                  376    $70,833.00     $98,823.00\n",
       "3   78617     28,376                6,981    $64,117.00     $96,277.00\n",
       "4   78621     24,590                7,183    $80,100.00     $85,730.00"
      ]
     },
     "execution_count": 13,
     "metadata": {},
     "output_type": "execute_result"
    }
   ],
   "source": [
    "#look at data\n",
    "zip_income_df.head()"
   ]
  },
  {
   "cell_type": "code",
   "execution_count": 17,
   "id": "5e40db3d",
   "metadata": {},
   "outputs": [],
   "source": [
    "zip_income_df.to_csv('resources\\zip_income_df.csv')"
   ]
  },
  {
   "cell_type": "code",
   "execution_count": null,
   "id": "eeb183f4",
   "metadata": {},
   "outputs": [],
   "source": []
  }
 ],
 "metadata": {
  "kernelspec": {
   "display_name": "Python 3 (ipykernel)",
   "language": "python",
   "name": "python3"
  },
  "language_info": {
   "codemirror_mode": {
    "name": "ipython",
    "version": 3
   },
   "file_extension": ".py",
   "mimetype": "text/x-python",
   "name": "python",
   "nbconvert_exporter": "python",
   "pygments_lexer": "ipython3",
   "version": "3.9.12"
  }
 },
 "nbformat": 4,
 "nbformat_minor": 5
}
